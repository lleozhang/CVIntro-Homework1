{
 "cells": [
  {
   "cell_type": "code",
   "execution_count": 1,
   "metadata": {},
   "outputs": [],
   "source": [
    "import numpy as np"
   ]
  },
  {
   "cell_type": "code",
   "execution_count": 2,
   "metadata": {},
   "outputs": [],
   "source": [
    "mat = np.array([[[1, 2], [3, 4]], [[5, 6],[7, 8]]])"
   ]
  },
  {
   "cell_type": "code",
   "execution_count": 3,
   "metadata": {},
   "outputs": [],
   "source": [
    "d = np.linalg.svd(mat)"
   ]
  },
  {
   "cell_type": "code",
   "execution_count": 7,
   "metadata": {},
   "outputs": [
    {
     "name": "stdout",
     "output_type": "stream",
     "text": [
      "[[[-0.57604844 -0.81741556]\n",
      "  [ 0.81741556 -0.57604844]]\n",
      "\n",
      " [[-0.65212545 -0.75811107]\n",
      "  [ 0.75811107 -0.65212545]]]\n"
     ]
    }
   ],
   "source": [
    "print(d[2])"
   ]
  },
  {
   "cell_type": "code",
   "execution_count": 2,
   "metadata": {},
   "outputs": [],
   "source": [
    "I_xx = np.full((2, 2), 1)\n",
    "I_yy = np.full((2, 2), 2)\n",
    "I_xy = np.full((2, 2), 3)"
   ]
  },
  {
   "cell_type": "code",
   "execution_count": 7,
   "metadata": {},
   "outputs": [],
   "source": [
    "np.stack((np.random.choice))"
   ]
  },
  {
   "cell_type": "code",
   "execution_count": 13,
   "metadata": {},
   "outputs": [
    {
     "name": "stdout",
     "output_type": "stream",
     "text": [
      "[[-7. -7.]\n",
      " [-7. -7.]]\n"
     ]
    }
   ],
   "source": [
    "print(np.linalg.det(all_pixels))"
   ]
  },
  {
   "cell_type": "code",
   "execution_count": 14,
   "metadata": {},
   "outputs": [
    {
     "name": "stdout",
     "output_type": "stream",
     "text": [
      "[[3 3]\n",
      " [3 3]]\n"
     ]
    }
   ],
   "source": [
    "print(np.trace(all_pixels, axis1 = 2, axis2 = 3))"
   ]
  },
  {
   "cell_type": "code",
   "execution_count": 16,
   "metadata": {},
   "outputs": [],
   "source": [
    "index = np.where(I_xx > 0)"
   ]
  },
  {
   "cell_type": "code",
   "execution_count": 18,
   "metadata": {},
   "outputs": [],
   "source": [
    "tmp = I_xx[index]"
   ]
  },
  {
   "cell_type": "code",
   "execution_count": 20,
   "metadata": {},
   "outputs": [
    {
     "name": "stdout",
     "output_type": "stream",
     "text": [
      "[(0, 0, 1), (0, 1, 1), (1, 0, 1), (1, 1, 1)]\n"
     ]
    }
   ],
   "source": [
    "print(list(zip(index[0], index[1], tmp)))"
   ]
  },
  {
   "cell_type": "code",
   "execution_count": 6,
   "metadata": {},
   "outputs": [
    {
     "name": "stdout",
     "output_type": "stream",
     "text": [
      "[[[[1 3]\n",
      "   [3 2]]\n",
      "\n",
      "  [[1 3]\n",
      "   [3 2]]]\n",
      "\n",
      "\n",
      " [[[1 3]\n",
      "   [3 2]]\n",
      "\n",
      "  [[1 3]\n",
      "   [3 2]]]]\n"
     ]
    }
   ],
   "source": [
    "print(np.stack((I_xx, I_xy, I_xy, I_yy), axis = 2).reshape(2, 2, 2, 2))"
   ]
  },
  {
   "cell_type": "code",
   "execution_count": null,
   "metadata": {},
   "outputs": [],
   "source": [
    "print()"
   ]
  },
  {
   "cell_type": "code",
   "execution_count": 23,
   "metadata": {},
   "outputs": [],
   "source": [
    "def padding(img, padding_size, type):\n",
    "    \"\"\"\n",
    "        The function you need to implement for Q1 a).\n",
    "        Inputs:\n",
    "            img: array(float)\n",
    "            padding_size: int\n",
    "            type: str, zeroPadding/replicatePadding\n",
    "        Outputs:\n",
    "            padding_img: array(float)\n",
    "    \"\"\"\n",
    "\n",
    "    if type==\"zeroPadding\":\n",
    "        padding_img = np.zeros((img.shape[0] + 2 * padding_size, img.shape[1] + 2 * padding_size))\n",
    "        padding_img[padding_size : -padding_size, padding_size : -padding_size] = img\n",
    "        return padding_img\n",
    "    elif type==\"replicatePadding\":\n",
    "        padding_img = np.zeros((img.shape[0] + 2 * padding_size, img.shape[1] + 2 * padding_size))\n",
    "        padding_img[padding_size : -padding_size, padding_size : -padding_size] = img\n",
    "        \n",
    "        padding_img[padding_size : -padding_size, 0 : padding_size] = img[:, 0].reshape(-1, 1)\n",
    "        padding_img[padding_size : -padding_size, -padding_size : ] = img[:, -1].reshape(-1, 1)\n",
    "        padding_img[0 : padding_size, padding_size : -padding_size] = img[0, :]\n",
    "        padding_img[-padding_size : , padding_size : -padding_size] = img[-1, :]\n",
    "        \n",
    "        padding_img[0 : padding_size, 0 : padding_size] = img[0, 0]\n",
    "        padding_img[-padding_size : , 0 : padding_size] = img[-1, 0]\n",
    "        padding_img[0 : padding_size, -padding_size : ] = img[0, -1]\n",
    "        padding_img[-padding_size : , -padding_size : ] = img[-1, -1]\n",
    "    \n",
    "        return padding_img"
   ]
  },
  {
   "cell_type": "code",
   "execution_count": 43,
   "metadata": {},
   "outputs": [],
   "source": [
    "img = np.array([[1,2,3],[3,4,5],[4, 5, 6]])\n",
    "kernel = np.array([[1,2],[3,4]])"
   ]
  },
  {
   "cell_type": "code",
   "execution_count": 46,
   "metadata": {},
   "outputs": [],
   "source": [
    "tgt_siz = img.shape[0] - kernel.shape[0] + 1"
   ]
  },
  {
   "cell_type": "code",
   "execution_count": 47,
   "metadata": {},
   "outputs": [],
   "source": [
    "line_index = np.arange(tgt_siz * tgt_siz) // tgt_siz"
   ]
  },
  {
   "cell_type": "code",
   "execution_count": 48,
   "metadata": {},
   "outputs": [
    {
     "name": "stdout",
     "output_type": "stream",
     "text": [
      "[0 0 1 1]\n"
     ]
    }
   ],
   "source": [
    "print(line_index)"
   ]
  },
  {
   "cell_type": "code",
   "execution_count": 64,
   "metadata": {},
   "outputs": [],
   "source": [
    "repeat_index = np.arange(tgt_siz).reshape(-1, 1).repeat(tgt_siz, axis = 1).T"
   ]
  },
  {
   "cell_type": "code",
   "execution_count": 66,
   "metadata": {},
   "outputs": [
    {
     "name": "stdout",
     "output_type": "stream",
     "text": [
      "[[0]\n",
      " [1]\n",
      " [0]\n",
      " [1]]\n"
     ]
    }
   ],
   "source": [
    "print(repeat_index.reshape(-1, 1))"
   ]
  },
  {
   "cell_type": "code",
   "execution_count": 49,
   "metadata": {},
   "outputs": [],
   "source": [
    "ori_column_index = np.arange(kernel.shape[0])"
   ]
  },
  {
   "cell_type": "code",
   "execution_count": null,
   "metadata": {},
   "outputs": [],
   "source": []
  },
  {
   "cell_type": "code",
   "execution_count": 50,
   "metadata": {},
   "outputs": [
    {
     "name": "stdout",
     "output_type": "stream",
     "text": [
      "[0 1]\n"
     ]
    }
   ],
   "source": [
    "print(ori_column_index)"
   ]
  },
  {
   "cell_type": "code",
   "execution_count": 68,
   "metadata": {},
   "outputs": [],
   "source": [
    "repeat_time = np.arange(kernel.shape[1])"
   ]
  },
  {
   "cell_type": "code",
   "execution_count": 71,
   "metadata": {},
   "outputs": [],
   "source": [
    "column_index = ori_column_index.reshape(-1, 1).repeat(kernel.shape[1], axis = 1).T + repeat_time.reshape(-1, 1)* img.shape[1]"
   ]
  },
  {
   "cell_type": "code",
   "execution_count": 72,
   "metadata": {},
   "outputs": [
    {
     "name": "stdout",
     "output_type": "stream",
     "text": [
      "[[0 1]\n",
      " [3 4]]\n"
     ]
    }
   ],
   "source": [
    "print(column_index.reshape(-1, 1))"
   ]
  },
  {
   "cell_type": "code",
   "execution_count": 83,
   "metadata": {},
   "outputs": [
    {
     "name": "stdout",
     "output_type": "stream",
     "text": [
      "[[0 0 0 0]\n",
      " [1 1 1 1]\n",
      " [3 3 3 3]\n",
      " [4 4 4 4]]\n"
     ]
    }
   ],
   "source": [
    "print(column_index.reshape(-1, 1).repeat(tgt_siz * tgt_siz, axis = 1))"
   ]
  },
  {
   "cell_type": "code",
   "execution_count": 84,
   "metadata": {},
   "outputs": [],
   "source": [
    "all_column_index = column_index.reshape(-1, 1).repeat(tgt_siz * tgt_siz, axis = 1).T +  repeat_index.reshape(-1, 1) + img.shape[1] * line_index.reshape(-1, 1)"
   ]
  },
  {
   "cell_type": "code",
   "execution_count": 85,
   "metadata": {},
   "outputs": [
    {
     "name": "stdout",
     "output_type": "stream",
     "text": [
      "[[0 1 3 4]\n",
      " [1 2 4 5]\n",
      " [3 4 6 7]\n",
      " [4 5 7 8]]\n"
     ]
    }
   ],
   "source": [
    "print(all_column_index)"
   ]
  },
  {
   "cell_type": "code",
   "execution_count": 108,
   "metadata": {},
   "outputs": [],
   "source": [
    "all_lines = np.arange(4).reshape(-1, 1)\n",
    "all_column_index = np.zeros((4, 2), dtype = int)"
   ]
  },
  {
   "cell_type": "code",
   "execution_count": 110,
   "metadata": {},
   "outputs": [],
   "source": [
    "M = np.zeros((4, 9))\n",
    "M[all_lines, all_column_index] = 1"
   ]
  },
  {
   "cell_type": "code",
   "execution_count": 104,
   "metadata": {},
   "outputs": [
    {
     "name": "stdout",
     "output_type": "stream",
     "text": [
      "[[1. 0. 0. 0. 0. 0. 0. 0. 0.]\n",
      " [1. 0. 0. 0. 0. 0. 0. 0. 0.]\n",
      " [1. 0. 0. 0. 0. 0. 0. 0. 0.]\n",
      " [1. 0. 0. 0. 0. 0. 0. 0. 0.]]\n"
     ]
    }
   ],
   "source": [
    "print(M)"
   ]
  },
  {
   "cell_type": "code",
   "execution_count": 89,
   "metadata": {},
   "outputs": [
    {
     "name": "stdout",
     "output_type": "stream",
     "text": [
      "[[1. 1. 0. 1. 1. 0. 0. 0. 0.]\n",
      " [0. 1. 1. 0. 1. 1. 0. 0. 0.]\n",
      " [0. 0. 0. 1. 1. 0. 1. 1. 0.]\n",
      " [0. 0. 0. 0. 1. 1. 0. 1. 1.]]\n"
     ]
    }
   ],
   "source": [
    "print(M)"
   ]
  },
  {
   "cell_type": "code",
   "execution_count": null,
   "metadata": {},
   "outputs": [],
   "source": []
  },
  {
   "cell_type": "code",
   "execution_count": 40,
   "metadata": {},
   "outputs": [
    {
     "name": "stdout",
     "output_type": "stream",
     "text": [
      "[[7 8 3]\n",
      " [3 7 8]]\n"
     ]
    }
   ],
   "source": [
    "print(img)"
   ]
  },
  {
   "cell_type": "code",
   "execution_count": 24,
   "metadata": {},
   "outputs": [
    {
     "name": "stdout",
     "output_type": "stream",
     "text": [
      "[[1. 1. 1. 2. 2. 2.]\n",
      " [1. 1. 1. 2. 2. 2.]\n",
      " [1. 1. 1. 2. 2. 2.]\n",
      " [3. 3. 3. 4. 4. 4.]\n",
      " [3. 3. 3. 4. 4. 4.]\n",
      " [3. 3. 3. 4. 4. 4.]]\n"
     ]
    }
   ],
   "source": [
    "print(padding(img, 2, 'replicatePadding'))"
   ]
  },
  {
   "cell_type": "code",
   "execution_count": 90,
   "metadata": {},
   "outputs": [],
   "source": [
    "padding_img = np.arange(64).reshape(8, 8)\n",
    "kernel = np.arange(9).reshape(3, 3)"
   ]
  },
  {
   "cell_type": "code",
   "execution_count": 116,
   "metadata": {},
   "outputs": [
    {
     "ename": "ValueError",
     "evalue": "cannot reshape array of size 36 into shape (3,3)",
     "output_type": "error",
     "traceback": [
      "\u001b[1;31m---------------------------------------------------------------------------\u001b[0m",
      "\u001b[1;31mValueError\u001b[0m                                Traceback (most recent call last)",
      "\u001b[1;32md:\\我的坚果云\\大三下学习资料\\计算机视觉导论\\01_assignment\\example.ipynb Cell 26\u001b[0m in \u001b[0;36m1\n\u001b[0;32m     <a href='vscode-notebook-cell:/d%3A/%E6%88%91%E7%9A%84%E5%9D%9A%E6%9E%9C%E4%BA%91/%E5%A4%A7%E4%B8%89%E4%B8%8B%E5%AD%A6%E4%B9%A0%E8%B5%84%E6%96%99/%E8%AE%A1%E7%AE%97%E6%9C%BA%E8%A7%86%E8%A7%89%E5%AF%BC%E8%AE%BA/01_assignment/example.ipynb#X34sZmlsZQ%3D%3D?line=12'>13</a>\u001b[0m TM \u001b[39m=\u001b[39m np\u001b[39m.\u001b[39mzeros((tgt_siz \u001b[39m*\u001b[39m tgt_siz,  padding_img\u001b[39m.\u001b[39mshape[\u001b[39m0\u001b[39m] \u001b[39m*\u001b[39m padding_img\u001b[39m.\u001b[39mshape[\u001b[39m1\u001b[39m]))\n\u001b[0;32m     <a href='vscode-notebook-cell:/d%3A/%E6%88%91%E7%9A%84%E5%9D%9A%E6%9E%9C%E4%BA%91/%E5%A4%A7%E4%B8%89%E4%B8%8B%E5%AD%A6%E4%B9%A0%E8%B5%84%E6%96%99/%E8%AE%A1%E7%AE%97%E6%9C%BA%E8%A7%86%E8%A7%89%E5%AF%BC%E8%AE%BA/01_assignment/example.ipynb#X34sZmlsZQ%3D%3D?line=13'>14</a>\u001b[0m TM[all_lines, all_column_index] \u001b[39m=\u001b[39m kernel\u001b[39m.\u001b[39mreshape(\u001b[39m1\u001b[39m, \u001b[39m-\u001b[39m\u001b[39m1\u001b[39m)\n\u001b[1;32m---> <a href='vscode-notebook-cell:/d%3A/%E6%88%91%E7%9A%84%E5%9D%9A%E6%9E%9C%E4%BA%91/%E5%A4%A7%E4%B8%89%E4%B8%8B%E5%AD%A6%E4%B9%A0%E8%B5%84%E6%96%99/%E8%AE%A1%E7%AE%97%E6%9C%BA%E8%A7%86%E8%A7%89%E5%AF%BC%E8%AE%BA/01_assignment/example.ipynb#X34sZmlsZQ%3D%3D?line=15'>16</a>\u001b[0m output \u001b[39m=\u001b[39m (TM \u001b[39m@\u001b[39;49m padding_img\u001b[39m.\u001b[39;49mreshape(\u001b[39m-\u001b[39;49m\u001b[39m1\u001b[39;49m, \u001b[39m1\u001b[39;49m))\u001b[39m.\u001b[39;49mreshape(img\u001b[39m.\u001b[39;49mshape[\u001b[39m0\u001b[39;49m], img\u001b[39m.\u001b[39;49mshape[\u001b[39m1\u001b[39;49m])\n",
      "\u001b[1;31mValueError\u001b[0m: cannot reshape array of size 36 into shape (3,3)"
     ]
    }
   ],
   "source": [
    "tgt_siz = padding_img.shape[0] - kernel.shape[0] + 1\n",
    "all_lines = np.arange(tgt_siz * tgt_siz).reshape(-1, 1)\n",
    "line_index = np.arange(tgt_siz * tgt_siz) // tgt_siz\n",
    "repeat_index = np.arange(tgt_siz).reshape(-1, 1).repeat(tgt_siz, axis = 1).T.reshape(-1, 1)\n",
    "\n",
    "ori_column_index = np.arange(kernel.shape[0])\n",
    "repeat_time = np.arange(kernel.shape[1])\n",
    "\n",
    "column_index = ori_column_index.reshape(-1, 1).repeat(kernel.shape[1], axis = 1).T + repeat_time.reshape(-1, 1)* padding_img.shape[1]\n",
    "\n",
    "all_column_index = column_index.reshape(-1, 1).repeat(tgt_siz * tgt_siz, axis = 1).T +  repeat_index + padding_img.shape[1] * line_index.reshape(-1, 1)\n",
    "\n",
    "TM = np.zeros((tgt_siz * tgt_siz,  padding_img.shape[0] * padding_img.shape[1]))\n",
    "TM[all_lines, all_column_index] = kernel.reshape(1, -1)\n",
    "\n",
    "output = (TM @ padding_img.reshape(-1, 1)).reshape(img.shape[0], img.shape[1])\n"
   ]
  },
  {
   "cell_type": "code",
   "execution_count": 114,
   "metadata": {},
   "outputs": [
    {
     "name": "stdout",
     "output_type": "stream",
     "text": [
      "[0. 1. 2. 0. 0. 0. 0. 0. 3. 4. 5. 0. 0. 0. 0. 0. 6. 7. 8. 0. 0. 0. 0. 0.\n",
      " 0. 0. 0. 0. 0. 0. 0. 0. 0. 0. 0. 0. 0. 0. 0. 0. 0. 0. 0. 0. 0. 0. 0. 0.\n",
      " 0. 0. 0. 0. 0. 0. 0. 0. 0. 0. 0. 0. 0. 0. 0. 0.] [0. 0. 1. 2. 0. 0. 0. 0. 0. 3. 4. 5. 0. 0. 0. 0. 0. 6. 7. 8. 0. 0. 0. 0.\n",
      " 0. 0. 0. 0. 0. 0. 0. 0. 0. 0. 0. 0. 0. 0. 0. 0. 0. 0. 0. 0. 0. 0. 0. 0.\n",
      " 0. 0. 0. 0. 0. 0. 0. 0. 0. 0. 0. 0. 0. 0. 0. 0.]\n"
     ]
    }
   ],
   "source": [
    "print(TM[0], TM[1])"
   ]
  },
  {
   "cell_type": "code",
   "execution_count": 64,
   "metadata": {},
   "outputs": [],
   "source": [
    "import numpy as np\n",
    "img = np.arange(9).reshape(3, 3)\n",
    "kernel = np.arange(4).reshape(2, 2)"
   ]
  },
  {
   "cell_type": "code",
   "execution_count": 65,
   "metadata": {},
   "outputs": [],
   "source": [
    "fl_img = img.reshape(1, -1)"
   ]
  },
  {
   "cell_type": "code",
   "execution_count": 66,
   "metadata": {},
   "outputs": [],
   "source": [
    "ori_columns = np.arange(kernel.shape[1])"
   ]
  },
  {
   "cell_type": "code",
   "execution_count": 67,
   "metadata": {},
   "outputs": [],
   "source": [
    "tgt_siz = img.shape[0] - kernel.shape[0] + 1"
   ]
  },
  {
   "cell_type": "code",
   "execution_count": 68,
   "metadata": {},
   "outputs": [],
   "source": [
    "repeat_columns = ori_columns.reshape(-1, 1).repeat(kernel.shape[0], axis = 1).T"
   ]
  },
  {
   "cell_type": "code",
   "execution_count": 69,
   "metadata": {},
   "outputs": [
    {
     "name": "stdout",
     "output_type": "stream",
     "text": [
      "[[0 1]\n",
      " [0 1]]\n"
     ]
    }
   ],
   "source": [
    "print(repeat_columns)"
   ]
  },
  {
   "cell_type": "code",
   "execution_count": 70,
   "metadata": {},
   "outputs": [],
   "source": [
    "repeat_columns = repeat_columns.reshape(1, -1)"
   ]
  },
  {
   "cell_type": "code",
   "execution_count": 71,
   "metadata": {},
   "outputs": [
    {
     "name": "stdout",
     "output_type": "stream",
     "text": [
      "[[0 1 0 1]]\n"
     ]
    }
   ],
   "source": [
    "print(repeat_columns)"
   ]
  },
  {
   "cell_type": "code",
   "execution_count": 72,
   "metadata": {},
   "outputs": [],
   "source": [
    "added = np.arange(tgt_siz).repeat(kernel.shape[0] * kernel.shape[1]).reshape(tgt_siz, -1)"
   ]
  },
  {
   "cell_type": "code",
   "execution_count": 73,
   "metadata": {},
   "outputs": [
    {
     "name": "stdout",
     "output_type": "stream",
     "text": [
      "[[0 0 0 0]\n",
      " [1 1 1 1]]\n"
     ]
    }
   ],
   "source": [
    "print(added)"
   ]
  },
  {
   "cell_type": "code",
   "execution_count": 74,
   "metadata": {},
   "outputs": [],
   "source": [
    "added_column = np.arange(kernel.shape[0]).repeat(kernel.shape[1])"
   ]
  },
  {
   "cell_type": "code",
   "execution_count": 75,
   "metadata": {},
   "outputs": [
    {
     "name": "stdout",
     "output_type": "stream",
     "text": [
      "[0 0 1 1]\n"
     ]
    }
   ],
   "source": [
    "print(added_column)"
   ]
  },
  {
   "cell_type": "code",
   "execution_count": 76,
   "metadata": {},
   "outputs": [],
   "source": [
    "first_column = repeat_columns + added_column * img.shape[1]"
   ]
  },
  {
   "cell_type": "code",
   "execution_count": 77,
   "metadata": {},
   "outputs": [
    {
     "name": "stdout",
     "output_type": "stream",
     "text": [
      "[[0 1 3 4]]\n"
     ]
    }
   ],
   "source": [
    "print(first_column)"
   ]
  },
  {
   "cell_type": "code",
   "execution_count": 78,
   "metadata": {},
   "outputs": [],
   "source": [
    "tmp_columns = first_column.reshape(-1, 1).repeat(tgt_siz * tgt_siz, axis = 1).T"
   ]
  },
  {
   "cell_type": "code",
   "execution_count": 79,
   "metadata": {},
   "outputs": [
    {
     "name": "stdout",
     "output_type": "stream",
     "text": [
      "[[0 1 3 4]\n",
      " [0 1 3 4]\n",
      " [0 1 3 4]\n",
      " [0 1 3 4]]\n"
     ]
    }
   ],
   "source": [
    "print(tmp_columns)"
   ]
  },
  {
   "cell_type": "code",
   "execution_count": 80,
   "metadata": {},
   "outputs": [],
   "source": [
    "all_added = added.reshape(-1, 1).repeat(tgt_siz, axis = 1).T.reshape(tgt_siz * tgt_siz, -1)"
   ]
  },
  {
   "cell_type": "code",
   "execution_count": 81,
   "metadata": {},
   "outputs": [
    {
     "name": "stdout",
     "output_type": "stream",
     "text": [
      "[[0 0 0 0]\n",
      " [1 1 1 1]\n",
      " [0 0 0 0]\n",
      " [1 1 1 1]]\n"
     ]
    }
   ],
   "source": [
    "print(all_added)"
   ]
  },
  {
   "cell_type": "code",
   "execution_count": 82,
   "metadata": {},
   "outputs": [],
   "source": [
    "lines = np.arange(tgt_siz).repeat(tgt_siz).reshape(-1, 1)"
   ]
  },
  {
   "cell_type": "code",
   "execution_count": 83,
   "metadata": {},
   "outputs": [
    {
     "name": "stdout",
     "output_type": "stream",
     "text": [
      "[[0]\n",
      " [0]\n",
      " [1]\n",
      " [1]]\n"
     ]
    }
   ],
   "source": [
    "print(lines)"
   ]
  },
  {
   "cell_type": "code",
   "execution_count": 84,
   "metadata": {},
   "outputs": [],
   "source": [
    "all_added = all_added + lines * img.shape[1]"
   ]
  },
  {
   "cell_type": "code",
   "execution_count": 85,
   "metadata": {},
   "outputs": [
    {
     "name": "stdout",
     "output_type": "stream",
     "text": [
      "[[0 0 0 0]\n",
      " [1 1 1 1]\n",
      " [3 3 3 3]\n",
      " [4 4 4 4]]\n"
     ]
    }
   ],
   "source": [
    "print(all_added)"
   ]
  },
  {
   "cell_type": "code",
   "execution_count": 86,
   "metadata": {},
   "outputs": [],
   "source": [
    "all_column = tmp_columns + all_added"
   ]
  },
  {
   "cell_type": "code",
   "execution_count": 87,
   "metadata": {},
   "outputs": [],
   "source": [
    "M = np.zeros((tgt_siz * tgt_siz, kernel.shape[0] * kernel.shape[1]))"
   ]
  },
  {
   "cell_type": "code",
   "execution_count": 88,
   "metadata": {},
   "outputs": [],
   "source": [
    "all_lines = np.arange(tgt_siz * tgt_siz)"
   ]
  },
  {
   "cell_type": "code",
   "execution_count": 89,
   "metadata": {},
   "outputs": [],
   "source": [
    "fl_img = img.flatten()"
   ]
  },
  {
   "cell_type": "code",
   "execution_count": 90,
   "metadata": {},
   "outputs": [
    {
     "name": "stdout",
     "output_type": "stream",
     "text": [
      "[[0 1 3 4]\n",
      " [1 2 4 5]\n",
      " [3 4 6 7]\n",
      " [4 5 7 8]]\n"
     ]
    }
   ],
   "source": [
    "print(fl_img[all_column])"
   ]
  },
  {
   "cell_type": "code",
   "execution_count": 91,
   "metadata": {},
   "outputs": [],
   "source": [
    "M[all_lines] = fl_img[all_column]"
   ]
  },
  {
   "cell_type": "code",
   "execution_count": 92,
   "metadata": {},
   "outputs": [
    {
     "name": "stdout",
     "output_type": "stream",
     "text": [
      "[[0. 1. 3. 4.]\n",
      " [1. 2. 4. 5.]\n",
      " [3. 4. 6. 7.]\n",
      " [4. 5. 7. 8.]]\n"
     ]
    }
   ],
   "source": [
    "print(M)"
   ]
  },
  {
   "cell_type": "code",
   "execution_count": 94,
   "metadata": {},
   "outputs": [],
   "source": [
    "D = np.zeros((4,4))\n",
    "E = np.zeros((4,4))\n",
    "T = np.ones((4,4))\n",
    "R = np.where(T < 0, D, E)"
   ]
  },
  {
   "cell_type": "code",
   "execution_count": 3,
   "metadata": {},
   "outputs": [
    {
     "data": {
      "image/png": "[encoded data removed]",
      "text/plain": [
       "<Figure size 720x1440 with 1 Axes>"
      ]
     },
     "metadata": {
      "needs_background": "light"
     },
     "output_type": "display_data"
    },
    {
     "data": {
      "image/png": "[encoded data removed]",
      "text/plain": [
       "<Figure size 720x1440 with 1 Axes>"
      ]
     },
     "metadata": {
      "needs_background": "light"
     },
     "output_type": "display_data"
    }
   ],
   "source": [
    "from scipy import ndimage\n",
    "from scipy.ndimage.filters import convolve\n",
    "import numpy as np\n",
    "import matplotlib.pyplot as plt\n",
    "import matplotlib.image as mpimg\n",
    "import os\n",
    "\n",
    "\n",
    "def rgb2gray(rgb):\n",
    "    r, g, b = rgb[:,:,0], rgb[:,:,1], rgb[:,:,2]\n",
    "    gray = 0.2989 * r + 0.5870 * g + 0.1140 * b\n",
    "    return gray\n",
    "\n",
    "def load_data(dir_name):\n",
    "    imgs = []\n",
    "    for filename in os.listdir(dir_name):\n",
    "        if os.path.isfile(dir_name + '/' + filename):\n",
    "            img = mpimg.imread(dir_name + '/' + filename)\n",
    "            img = rgb2gray(img)\n",
    "            imgs.append(img)\n",
    "    return imgs\n",
    "\n",
    "\n",
    "def visualize(imgs, format=None, gray=False):\n",
    "    plt.figure(figsize=(10, 20))\n",
    "    for i, img in enumerate(imgs):\n",
    "        if img.shape[0] == 3:\n",
    "            img = img.transpose(1,2,0)\n",
    "        plt_idx = i+1\n",
    "        plt.subplot(2, 2, plt_idx)\n",
    "        plt.imshow(img, format)\n",
    "    plt.show()\n",
    "\n",
    "class cannyEdgeDetector:\n",
    "    def __init__(self, imgs, sigma=1, kernel_size=5, weak_pixel=75, strong_pixel=255, lowthreshold=0.05, highthreshold=0.15):\n",
    "        self.imgs = imgs\n",
    "        self.imgs_final = []\n",
    "        self.img_smoothed = None\n",
    "        self.gradientMat = None\n",
    "        self.thetaMat = None\n",
    "        self.nonMaxImg = None\n",
    "        self.thresholdImg = None\n",
    "        self.weak_pixel = weak_pixel\n",
    "        self.strong_pixel = strong_pixel\n",
    "        self.sigma = sigma\n",
    "        self.kernel_size = kernel_size\n",
    "        self.lowThreshold = lowthreshold\n",
    "        self.highThreshold = highthreshold\n",
    "        return \n",
    "    \n",
    "    def gaussian_kernel(self, size, sigma=1):\n",
    "        size = int(size) // 2\n",
    "        x, y = np.mgrid[-size:size+1, -size:size+1]\n",
    "        normal = 1 / (2.0 * np.pi * sigma**2)\n",
    "        g = np.exp(-((x**2 + y**2) / (2.0*sigma**2))) * normal\n",
    "        return g\n",
    "    \n",
    "    def sobel_filters(self, img):\n",
    "        Kx = np.array([[-1, 0, 1], [-2, 0, 2], [-1, 0, 1]], np.float32)\n",
    "        Ky = np.array([[1, 2, 1], [0, 0, 0], [-1, -2, -1]], np.float32)\n",
    "\n",
    "        Ix = ndimage.filters.convolve(img, Kx)\n",
    "        Iy = ndimage.filters.convolve(img, Ky)\n",
    "\n",
    "        G = np.hypot(Ix, Iy)\n",
    "        G = G / G.max() * 255\n",
    "        theta = np.arctan2(Iy, Ix)\n",
    "        return (G, theta)\n",
    "    \n",
    "\n",
    "    def non_max_suppression(self, img, D):\n",
    "        M, N = img.shape\n",
    "        Z = np.zeros((M,N), dtype=np.int32)\n",
    "        angle = D * 180. / np.pi\n",
    "        angle[angle < 0] += 180\n",
    "\n",
    "\n",
    "        for i in range(1,M-1):\n",
    "            for j in range(1,N-1):\n",
    "                try:\n",
    "                    q = 255\n",
    "                    r = 255\n",
    "\n",
    "                   #angle 0\n",
    "                    if (0 <= angle[i,j] < 22.5) or (157.5 <= angle[i,j] <= 180):\n",
    "                        q = img[i, j+1]\n",
    "                        r = img[i, j-1]\n",
    "                    #angle 45\n",
    "                    elif (22.5 <= angle[i,j] < 67.5):\n",
    "                        q = img[i+1, j-1]\n",
    "                        r = img[i-1, j+1]\n",
    "                    #angle 90\n",
    "                    elif (67.5 <= angle[i,j] < 112.5):\n",
    "                        q = img[i+1, j]\n",
    "                        r = img[i-1, j]\n",
    "                    #angle 135\n",
    "                    elif (112.5 <= angle[i,j] < 157.5):\n",
    "                        q = img[i-1, j-1]\n",
    "                        r = img[i+1, j+1]\n",
    "\n",
    "                    if (img[i,j] >= q) and (img[i,j] >= r):\n",
    "                        Z[i,j] = img[i,j]\n",
    "                    else:\n",
    "                        Z[i,j] = 0\n",
    "\n",
    "\n",
    "                except IndexError as e:\n",
    "                    pass\n",
    "\n",
    "        return Z\n",
    "\n",
    "    def threshold(self, img):\n",
    "\n",
    "        highThreshold = img.max() * self.highThreshold\n",
    "        lowThreshold = highThreshold * self.lowThreshold\n",
    "\n",
    "        M, N = img.shape\n",
    "        res = np.zeros((M,N), dtype=np.int32)\n",
    "\n",
    "        weak = np.int32(self.weak_pixel)\n",
    "        strong = np.int32(self.strong_pixel)\n",
    "\n",
    "        strong_i, strong_j = np.where(img >= highThreshold)\n",
    "        zeros_i, zeros_j = np.where(img < lowThreshold)\n",
    "\n",
    "        weak_i, weak_j = np.where((img <= highThreshold) & (img >= lowThreshold))\n",
    "\n",
    "        res[strong_i, strong_j] = strong\n",
    "        res[weak_i, weak_j] = weak\n",
    "\n",
    "        return (res)\n",
    "\n",
    "    def hysteresis(self, img):\n",
    "\n",
    "        M, N = img.shape\n",
    "        weak = self.weak_pixel\n",
    "        strong = self.strong_pixel\n",
    "\n",
    "        for i in range(1, M-1):\n",
    "            for j in range(1, N-1):\n",
    "                if (img[i,j] == weak):\n",
    "                    try:\n",
    "                        if ((img[i+1, j-1] == strong) or (img[i+1, j] == strong) or (img[i+1, j+1] == strong)\n",
    "                            or (img[i, j-1] == strong) or (img[i, j+1] == strong)\n",
    "                            or (img[i-1, j-1] == strong) or (img[i-1, j] == strong) or (img[i-1, j+1] == strong)):\n",
    "                            img[i, j] = strong\n",
    "                        else:\n",
    "                            img[i, j] = 0\n",
    "                    except IndexError as e:\n",
    "                        pass\n",
    "\n",
    "        return img\n",
    "    \n",
    "    def detect(self):\n",
    "        imgs_final = []\n",
    "        for i, img in enumerate(self.imgs):\n",
    "            self.img_smoothed = convolve(img, self.gaussian_kernel(self.kernel_size, self.sigma))\n",
    "            self.gradientMat, self.thetaMat = self.sobel_filters(self.img_smoothed)\n",
    "            self.nonMaxImg = self.non_max_suppression(self.gradientMat, self.thetaMat)\n",
    "            self.thresholdImg = self.threshold(self.nonMaxImg)\n",
    "            img_final = self.hysteresis(self.thresholdImg)\n",
    "            self.imgs_final.append(img_final)\n",
    "\n",
    "        return self.imgs_final\n",
    "\n",
    "imgs = load_data(dir_name='imgs/')\n",
    "visualize(imgs, 'gray')\n",
    "detector = cannyEdgeDetector(imgs, sigma=1, kernel_size=5, lowthreshold=0.09, highthreshold=0.17, weak_pixel=100)\n",
    "imgs_final = detector.detect()\n",
    "visualize(imgs_final, 'gray')\n"
   ]
  }
 ],
 "metadata": {
  "interpreter": {
   "hash": "7ba4aafba68c477f98f35650c1bda355c289c2bc9d6da94608c6174b64262d4e"
  },
  "kernelspec": {
   "display_name": "Python 3.9.1 64-bit ('base': conda)",
   "name": "python3"
  },
  "language_info": {
   "codemirror_mode": {
    "name": "ipython",
    "version": 3
   },
   "file_extension": ".py",
   "mimetype": "text/x-python",
   "name": "python",
   "nbconvert_exporter": "python",
   "pygments_lexer": "ipython3",
   "version": "3.9.0"
  },
  "orig_nbformat": 4
 },
 "nbformat": 4,
 "nbformat_minor": 2
}
